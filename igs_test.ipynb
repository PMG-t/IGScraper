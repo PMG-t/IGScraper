{
 "cells": [
  {
   "attachments": {},
   "cell_type": "markdown",
   "metadata": {},
   "source": [
    "# Import dependencies"
   ]
  },
  {
   "cell_type": "code",
   "execution_count": 130,
   "metadata": {},
   "outputs": [
    {
     "data": {
      "text/plain": [
       "<module 'igscraper' from 'c:\\\\Users\\\\tommaso\\\\Documents\\\\_Projects\\\\IGScraper\\\\igscraper.py'>"
      ]
     },
     "execution_count": 130,
     "metadata": {},
     "output_type": "execute_result"
    }
   ],
   "source": [
    "import pandas as pd\n",
    "\n",
    "import igscraper as igs\n",
    "\n",
    "import importlib\n",
    "importlib.reload(igs)"
   ]
  },
  {
   "attachments": {},
   "cell_type": "markdown",
   "metadata": {},
   "source": [
    "# Init IGScraper"
   ]
  },
  {
   "cell_type": "code",
   "execution_count": 139,
   "metadata": {},
   "outputs": [],
   "source": [
    "IGS = igs.IGScraper(profile='matteosalviniofficial')"
   ]
  },
  {
   "cell_type": "code",
   "execution_count": 140,
   "metadata": {},
   "outputs": [],
   "source": [
    "IGS.load_profile_page()"
   ]
  },
  {
   "attachments": {},
   "cell_type": "markdown",
   "metadata": {},
   "source": [
    "# Scrape post links"
   ]
  },
  {
   "cell_type": "code",
   "execution_count": 31,
   "metadata": {},
   "outputs": [
    {
     "name": "stdout",
     "output_type": "stream",
     "text": [
      "\u001b[34mPost loaded: 106 / 100 [=========================================]\u001b[0m\r"
     ]
    }
   ],
   "source": [
    "# Close popups\n",
    "# Login recommended\n",
    "\n",
    "IGS.set_log(True)\n",
    "hrefs = IGS.scroll_profile_posts(n_post = 100)"
   ]
  },
  {
   "attachments": {},
   "cell_type": "markdown",
   "metadata": {},
   "source": [
    "# Scrape post info"
   ]
  },
  {
   "cell_type": "code",
   "execution_count": 134,
   "metadata": {},
   "outputs": [
    {
     "name": "stdout",
     "output_type": "stream",
     "text": [
      "df shape: (5007, 1)\n"
     ]
    },
    {
     "data": {
      "text/html": [
       "<div><div id=693a35f4-9f3d-472d-8e0a-fd155076f49a style=\"display:none; background-color:#9D6CFF; color:white; width:200px; height:30px; padding-left:5px; border-radius:4px; flex-direction:row; justify-content:space-around; align-items:center;\" onmouseover=\"this.style.backgroundColor='#BA9BF8'\" onmouseout=\"this.style.backgroundColor='#9D6CFF'\" onclick=\"window.commands?.execute('create-mitosheet-from-dataframe-output');\">See Full Dataframe in Mito</div> <script> if (window.commands.hasCommand('create-mitosheet-from-dataframe-output')) document.getElementById('693a35f4-9f3d-472d-8e0a-fd155076f49a').style.display = 'flex' </script> <table border=\"1\" class=\"dataframe\">\n",
       "  <thead>\n",
       "    <tr style=\"text-align: right;\">\n",
       "      <th></th>\n",
       "      <th>post_id</th>\n",
       "    </tr>\n",
       "  </thead>\n",
       "  <tbody>\n",
       "    <tr>\n",
       "      <th>0</th>\n",
       "      <td>Cg2hzMzA5b1</td>\n",
       "    </tr>\n",
       "    <tr>\n",
       "      <th>1</th>\n",
       "      <td>ClIo7D7qRKk</td>\n",
       "    </tr>\n",
       "  </tbody>\n",
       "</table></div>"
      ],
      "text/plain": [
       "       post_id\n",
       "0  Cg2hzMzA5b1\n",
       "1  ClIo7D7qRKk"
      ]
     },
     "execution_count": 134,
     "metadata": {},
     "output_type": "execute_result"
    }
   ],
   "source": [
    "dfp = pd.read_csv('csv/matteosalvinioffical_2023-03-12-n5000_postids.csv', sep='\\t')\n",
    "\n",
    "print(f'df shape: {dfp.shape}')\n",
    "dfp.head(2)"
   ]
  },
  {
   "cell_type": "code",
   "execution_count": 135,
   "metadata": {},
   "outputs": [
    {
     "name": "stdout",
     "output_type": "stream",
     "text": [
      "Post id: CfOgUU5qSog\n"
     ]
    }
   ],
   "source": [
    "pid = dfp.post_id[4]\n",
    "print(f'Post id: {pid}')"
   ]
  },
  {
   "cell_type": "code",
   "execution_count": 136,
   "metadata": {},
   "outputs": [
    {
     "data": {
      "text/plain": [
       "{'post_id': 'CfOgUU5qSog',\n",
       " 'author': 'matteosalviniofficial',\n",
       " 'description': '“Presa a cazzotti in faccia, buttata per terra e riempita di calci da un etiope. Sono stati momenti veramente brutti, ho sempre difeso queste persone per ogni cosa ma non pensavo che la realtà fosse così brutta\", ecco le parole di Gigliola.\\nA sinistra apriranno gli occhi o diranno che è ancora #colpadiSalvini che parlo di questa vergognosa aggressione?',\n",
       " 'date': '2022-06-25T11:34:22.000Z'}"
      ]
     },
     "execution_count": 136,
     "metadata": {},
     "output_type": "execute_result"
    }
   ],
   "source": [
    "IGS.get_post_data(pid)"
   ]
  }
 ],
 "metadata": {
  "kernelspec": {
   "display_name": "Python 3",
   "language": "python",
   "name": "python3"
  },
  "language_info": {
   "codemirror_mode": {
    "name": "ipython",
    "version": 3
   },
   "file_extension": ".py",
   "mimetype": "text/x-python",
   "name": "python",
   "nbconvert_exporter": "python",
   "pygments_lexer": "ipython3",
   "version": "3.9.1"
  },
  "orig_nbformat": 4
 },
 "nbformat": 4,
 "nbformat_minor": 2
}
