{
 "cells": [
  {
   "attachments": {},
   "cell_type": "markdown",
   "metadata": {},
   "source": [
    "# Import dependencies"
   ]
  },
  {
   "cell_type": "code",
   "execution_count": 85,
   "metadata": {},
   "outputs": [
    {
     "data": {
      "text/plain": [
       "<module 'igscraper' from 'c:\\\\Users\\\\tommaso\\\\Documents\\\\_Projects\\\\IGScraper\\\\igscraper.py'>"
      ]
     },
     "execution_count": 85,
     "metadata": {},
     "output_type": "execute_result"
    }
   ],
   "source": [
    "import pandas as pd\n",
    "from datetime import datetime\n",
    "\n",
    "from utilities import _support\n",
    "from utilities._support import login_account_info, ig_profiles\n",
    "\n",
    "import igscraper as igs\n",
    "\n",
    "import importlib\n",
    "importlib.reload(_support)\n",
    "importlib.reload(igs)"
   ]
  },
  {
   "attachments": {},
   "cell_type": "markdown",
   "metadata": {},
   "source": [
    "# Init IGScraper"
   ]
  },
  {
   "cell_type": "code",
   "execution_count": 68,
   "metadata": {},
   "outputs": [],
   "source": [
    "IGS = igs.IGScraper(profile=ig_profiles['meloni'])"
   ]
  },
  {
   "cell_type": "code",
   "execution_count": 69,
   "metadata": {},
   "outputs": [],
   "source": [
    "IGS.set_log(True)"
   ]
  },
  {
   "attachments": {},
   "cell_type": "markdown",
   "metadata": {},
   "source": [
    "## Login"
   ]
  },
  {
   "cell_type": "code",
   "execution_count": 70,
   "metadata": {},
   "outputs": [],
   "source": [
    "IGS.ig_login(login_account_info, sleeptime=5)"
   ]
  },
  {
   "attachments": {},
   "cell_type": "markdown",
   "metadata": {},
   "source": [
    "# Scrape post links"
   ]
  },
  {
   "cell_type": "code",
   "execution_count": 84,
   "metadata": {},
   "outputs": [
    {
     "name": "stdout",
     "output_type": "stream",
     "text": [
      "\u001b[34mPost loaded: 5001 / 5000 [=======================================]\u001b[0mm\r"
     ]
    }
   ],
   "source": [
    "# Close popups\n",
    "# Login recommended\n",
    "\n",
    "IGS.set_log(True)\n",
    "\n",
    "n_post = 5000\n",
    "collect_date = datetime.now().strftime(\"%Y-%m-%d\")\n",
    "csv_fname = f'csv/{IGS.profile}_{collect_date}_{n_post}_postids'\n",
    "hrefs = IGS.scroll_profile_posts(n_post = n_post, write_to_csv=csv_fname)"
   ]
  },
  {
   "attachments": {},
   "cell_type": "markdown",
   "metadata": {},
   "source": [
    "# Scrape post(s) info"
   ]
  },
  {
   "cell_type": "code",
   "execution_count": 87,
   "metadata": {},
   "outputs": [
    {
     "name": "stdout",
     "output_type": "stream",
     "text": [
      "df shape: (5001, 1)\n"
     ]
    },
    {
     "data": {
      "text/html": [
       "<div><div id=89e0a5a6-3ac7-488e-b624-30fb13011406 style=\"display:none; background-color:#9D6CFF; color:white; width:200px; height:30px; padding-left:5px; border-radius:4px; flex-direction:row; justify-content:space-around; align-items:center;\" onmouseover=\"this.style.backgroundColor='#BA9BF8'\" onmouseout=\"this.style.backgroundColor='#9D6CFF'\" onclick=\"window.commands?.execute('create-mitosheet-from-dataframe-output');\">See Full Dataframe in Mito</div> <script> if (window.commands.hasCommand('create-mitosheet-from-dataframe-output')) document.getElementById('89e0a5a6-3ac7-488e-b624-30fb13011406').style.display = 'flex' </script> <table border=\"1\" class=\"dataframe\">\n",
       "  <thead>\n",
       "    <tr style=\"text-align: right;\">\n",
       "      <th></th>\n",
       "      <th>post_ids</th>\n",
       "    </tr>\n",
       "  </thead>\n",
       "  <tbody>\n",
       "    <tr>\n",
       "      <th>0</th>\n",
       "      <td>Cpu-64dDS0Y</td>\n",
       "    </tr>\n",
       "    <tr>\n",
       "      <th>1</th>\n",
       "      <td>CpnPxxVjXuI</td>\n",
       "    </tr>\n",
       "  </tbody>\n",
       "</table></div>"
      ],
      "text/plain": [
       "      post_ids\n",
       "0  Cpu-64dDS0Y\n",
       "1  CpnPxxVjXuI"
      ]
     },
     "execution_count": 87,
     "metadata": {},
     "output_type": "execute_result"
    }
   ],
   "source": [
    "dfp = pd.read_csv('csv/giorgiameloni_2023-03-13_5000_postids.csv', sep='\\t')\n",
    "\n",
    "print(f'df shape: {dfp.shape}')\n",
    "dfp.head(2)"
   ]
  },
  {
   "cell_type": "code",
   "execution_count": 62,
   "metadata": {},
   "outputs": [
    {
     "name": "stdout",
     "output_type": "stream",
     "text": [
      "Post id: CoW0y2gKDOy\n"
     ]
    }
   ],
   "source": [
    "pid = dfp.post_ids[195]\n",
    "print(f'Post id: {pid}')"
   ]
  },
  {
   "attachments": {},
   "cell_type": "markdown",
   "metadata": {},
   "source": [
    "# Scrape post comments"
   ]
  },
  {
   "cell_type": "code",
   "execution_count": null,
   "metadata": {},
   "outputs": [],
   "source": [
    "posts_comments = IGS.get_posts_data(dfp.post_ids[:100], scrape_comments=True, load_comments_steps=20, load_comments_retry=3, write_to_file='csv/matteo_salvini_2023-03-12_n5000')"
   ]
  },
  {
   "attachments": {},
   "cell_type": "markdown",
   "metadata": {},
   "source": [
    "# What to do\n",
    "(some nice ideas)"
   ]
  },
  {
   "attachments": {},
   "cell_type": "markdown",
   "metadata": {},
   "source": [
    "- Hate speech lexicon: [ https://github.com/valeriobasile/hurtlex ]\n",
    "- Hate speech binary detector: [ https://github.com/milanlproc/hate-ita ]"
   ]
  }
 ],
 "metadata": {
  "kernelspec": {
   "display_name": "Python 3",
   "language": "python",
   "name": "python3"
  },
  "language_info": {
   "codemirror_mode": {
    "name": "ipython",
    "version": 3
   },
   "file_extension": ".py",
   "mimetype": "text/x-python",
   "name": "python",
   "nbconvert_exporter": "python",
   "pygments_lexer": "ipython3",
   "version": "3.9.1"
  },
  "orig_nbformat": 4
 },
 "nbformat": 4,
 "nbformat_minor": 2
}
