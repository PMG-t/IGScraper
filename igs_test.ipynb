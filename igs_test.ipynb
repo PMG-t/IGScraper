{
 "cells": [
  {
   "attachments": {},
   "cell_type": "markdown",
   "metadata": {},
   "source": [
    "# Import dependencies"
   ]
  },
  {
   "cell_type": "code",
   "execution_count": 1,
   "metadata": {},
   "outputs": [
    {
     "data": {
      "text/plain": [
       "<module 'igscraper' from 'c:\\\\Users\\\\tommaso\\\\Documents\\\\_Projects\\\\IGScraper\\\\igscraper.py'>"
      ]
     },
     "execution_count": 1,
     "metadata": {},
     "output_type": "execute_result"
    }
   ],
   "source": [
    "import pandas as pd\n",
    "\n",
    "import igscraper as igs\n",
    "from login_info import login_account_info\n",
    "\n",
    "import importlib\n",
    "importlib.reload(igs)"
   ]
  },
  {
   "attachments": {},
   "cell_type": "markdown",
   "metadata": {},
   "source": [
    "# Init IGScraper"
   ]
  },
  {
   "cell_type": "code",
   "execution_count": 2,
   "metadata": {},
   "outputs": [],
   "source": [
    "IGS = igs.IGScraper(profile='matteosalviniofficial')"
   ]
  },
  {
   "attachments": {},
   "cell_type": "markdown",
   "metadata": {},
   "source": [
    "## Login"
   ]
  },
  {
   "cell_type": "code",
   "execution_count": 3,
   "metadata": {},
   "outputs": [],
   "source": [
    "IGS.ig_login(login_account_info, sleeptime=5)"
   ]
  },
  {
   "attachments": {},
   "cell_type": "markdown",
   "metadata": {},
   "source": [
    "# Scrape post links"
   ]
  },
  {
   "cell_type": "code",
   "execution_count": 4,
   "metadata": {},
   "outputs": [],
   "source": [
    "IGS.load_profile_page()"
   ]
  },
  {
   "cell_type": "code",
   "execution_count": 5,
   "metadata": {},
   "outputs": [
    {
     "name": "stdout",
     "output_type": "stream",
     "text": [
      "\u001b[34mPost loaded: 106 / 100 [=========================================]\u001b[0m\r"
     ]
    }
   ],
   "source": [
    "# Close popups\n",
    "# Login recommended\n",
    "\n",
    "IGS.set_log(True)\n",
    "hrefs = IGS.scroll_profile_posts(n_post = 100)"
   ]
  },
  {
   "attachments": {},
   "cell_type": "markdown",
   "metadata": {},
   "source": [
    "# Scrape post(s) info"
   ]
  },
  {
   "cell_type": "code",
   "execution_count": 7,
   "metadata": {},
   "outputs": [
    {
     "name": "stdout",
     "output_type": "stream",
     "text": [
      "df shape: (5007, 1)\n"
     ]
    },
    {
     "data": {
      "text/html": [
       "<div><div id=e92ed999-637f-4fa6-bce0-58552e3ad1b5 style=\"display:none; background-color:#9D6CFF; color:white; width:200px; height:30px; padding-left:5px; border-radius:4px; flex-direction:row; justify-content:space-around; align-items:center;\" onmouseover=\"this.style.backgroundColor='#BA9BF8'\" onmouseout=\"this.style.backgroundColor='#9D6CFF'\" onclick=\"window.commands?.execute('create-mitosheet-from-dataframe-output');\">See Full Dataframe in Mito</div> <script> if (window.commands.hasCommand('create-mitosheet-from-dataframe-output')) document.getElementById('e92ed999-637f-4fa6-bce0-58552e3ad1b5').style.display = 'flex' </script> <table border=\"1\" class=\"dataframe\">\n",
       "  <thead>\n",
       "    <tr style=\"text-align: right;\">\n",
       "      <th></th>\n",
       "      <th>post_id</th>\n",
       "    </tr>\n",
       "  </thead>\n",
       "  <tbody>\n",
       "    <tr>\n",
       "      <th>0</th>\n",
       "      <td>Cg2hzMzA5b1</td>\n",
       "    </tr>\n",
       "    <tr>\n",
       "      <th>1</th>\n",
       "      <td>ClIo7D7qRKk</td>\n",
       "    </tr>\n",
       "  </tbody>\n",
       "</table></div>"
      ],
      "text/plain": [
       "       post_id\n",
       "0  Cg2hzMzA5b1\n",
       "1  ClIo7D7qRKk"
      ]
     },
     "execution_count": 7,
     "metadata": {},
     "output_type": "execute_result"
    }
   ],
   "source": [
    "dfp = pd.read_csv('csv/matteosalvinioffical_2023-03-12-n5000_postids.csv', sep='\\t')\n",
    "\n",
    "print(f'df shape: {dfp.shape}')\n",
    "dfp.head(2)"
   ]
  },
  {
   "cell_type": "code",
   "execution_count": 8,
   "metadata": {},
   "outputs": [
    {
     "name": "stdout",
     "output_type": "stream",
     "text": [
      "Post id: CfOgUU5qSog\n"
     ]
    }
   ],
   "source": [
    "pid = dfp.post_id[4]\n",
    "print(f'Post id: {pid}')"
   ]
  },
  {
   "cell_type": "code",
   "execution_count": 9,
   "metadata": {},
   "outputs": [
    {
     "data": {
      "text/plain": [
       "{'post_id': 'CfOgUU5qSog',\n",
       " 'author': 'matteosalviniofficial',\n",
       " 'description': '“Presa a cazzotti in faccia, buttata per terra e riempita di calci da un etiope. Sono stati momenti veramente brutti, ho sempre difeso queste persone per ogni cosa ma non pensavo che la realtà fosse così brutta\", ecco le parole di Gigliola.\\nA sinistra apriranno gli occhi o diranno che è ancora #colpadiSalvini che parlo di questa vergognosa aggressione?',\n",
       " 'date': '2022-06-25T11:34:22.000Z'}"
      ]
     },
     "execution_count": 9,
     "metadata": {},
     "output_type": "execute_result"
    }
   ],
   "source": [
    "IGS.get_post_data(pid)"
   ]
  },
  {
   "cell_type": "code",
   "execution_count": 10,
   "metadata": {},
   "outputs": [],
   "source": [
    "pinfos = [IGS.get_post_data(pid, scrape_comments=False) for pid in dfp.post_id[:5]]"
   ]
  },
  {
   "cell_type": "code",
   "execution_count": 11,
   "metadata": {},
   "outputs": [
    {
     "data": {
      "text/plain": [
       "[{'post_id': 'Cg2hzMzA5b1',\n",
       "  'author': 'matteosalviniofficial',\n",
       "  'description': 'Dopo aver visitato l’hotspot dell’isola e aver incontrato i suoi pescatori, sono intervenuto a #zonabianca, su Rete 4, da Lampedusa!\\nMi avete seguito? Fatemi sapere cosa ne pensate Amici😊',\n",
       "  'date': '2022-08-04T21:15:27.000Z'},\n",
       " {'post_id': 'ClIo7D7qRKk',\n",
       "  'author': 'matteosalviniofficial',\n",
       "  'description': 'Congratulazioni a Matteo Signani, sottocapo della @guardiacostiera, in servizio presso la Capitaneria di Porto di Rimini, che conquista per la quarta volta il titolo di campione europeo dei pesi medi di pugilato 🥊\\nOrgogliosi dell’Italia che vince, in Europa e nel mondo🥇🇮🇹',\n",
       "  'date': '2022-11-19T07:58:34.000Z'},\n",
       " {'post_id': 'CpSCIjetLLu',\n",
       "  'author': 'matteosalviniofficial',\n",
       "  'description': 'Ecco il Nuovo Pd, che attacca Lega e governo.\\nLavoriamo tranquilli, che dite?',\n",
       "  'date': '2023-03-02T09:37:37.000Z'},\n",
       " {'post_id': 'CRqepdCqlaq',\n",
       "  'author': 'matteosalviniofficial',\n",
       "  'description': \"🔴 #Voghera, il video dell'aggressione all'assessore. Una telecamera di sorveglianza ha ripreso il momento in cui Youns El Boussetaoui colpisce l'assessore Adriatici con un pugno. Il filmato e le testimonianze sono al vaglio degli inquirenti. La vittima, di origine marocchina, 39 anni, aveva numerosi precedenti penali, era noto a Forze dell’Ordine e cittadini, aveva ricevuto richieste di espulsione, era spesso in stato di alterazione e violento, secondo numerose testimonianze.\",\n",
       "  'date': '2021-07-23T08:56:22.000Z'},\n",
       " {'post_id': 'CfOgUU5qSog',\n",
       "  'author': 'matteosalviniofficial',\n",
       "  'description': '“Presa a cazzotti in faccia, buttata per terra e riempita di calci da un etiope. Sono stati momenti veramente brutti, ho sempre difeso queste persone per ogni cosa ma non pensavo che la realtà fosse così brutta\", ecco le parole di Gigliola.\\nA sinistra apriranno gli occhi o diranno che è ancora #colpadiSalvini che parlo di questa vergognosa aggressione?',\n",
       "  'date': '2022-06-25T11:34:22.000Z'}]"
      ]
     },
     "execution_count": 11,
     "metadata": {},
     "output_type": "execute_result"
    }
   ],
   "source": [
    "pinfos"
   ]
  },
  {
   "attachments": {},
   "cell_type": "markdown",
   "metadata": {},
   "source": [
    "# Scrape post comments"
   ]
  },
  {
   "cell_type": "code",
   "execution_count": null,
   "metadata": {},
   "outputs": [],
   "source": [
    "# TODO"
   ]
  }
 ],
 "metadata": {
  "kernelspec": {
   "display_name": "Python 3",
   "language": "python",
   "name": "python3"
  },
  "language_info": {
   "codemirror_mode": {
    "name": "ipython",
    "version": 3
   },
   "file_extension": ".py",
   "mimetype": "text/x-python",
   "name": "python",
   "nbconvert_exporter": "python",
   "pygments_lexer": "ipython3",
   "version": "3.9.1"
  },
  "orig_nbformat": 4
 },
 "nbformat": 4,
 "nbformat_minor": 2
}
