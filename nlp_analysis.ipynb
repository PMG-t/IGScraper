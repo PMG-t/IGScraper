{
 "cells": [
  {
   "attachments": {},
   "cell_type": "markdown",
   "metadata": {},
   "source": [
    "# Import dependencies"
   ]
  },
  {
   "cell_type": "code",
   "execution_count": 223,
   "metadata": {},
   "outputs": [
    {
     "data": {
      "text/plain": [
       "<module 'utilities._support' from 'c:\\\\Users\\\\tommaso\\\\Documents\\\\_Projects\\\\IGScraper\\\\utilities\\\\_support.py'>"
      ]
     },
     "execution_count": 223,
     "metadata": {},
     "output_type": "execute_result"
    }
   ],
   "source": [
    "import os\n",
    "import re\n",
    "import pickle\n",
    "import numpy as np\n",
    "import pandas as pd\n",
    "import importlib\n",
    "\n",
    "import spacy\n",
    "\n",
    "from utilities import _support\n",
    "from utilities._support import ig_profiles\n",
    "\n",
    "from nltk.tokenize import word_tokenize, sent_tokenize\n",
    "\n",
    "importlib.reload(_support)"
   ]
  },
  {
   "attachments": {},
   "cell_type": "markdown",
   "metadata": {},
   "source": [
    "# Concat CSVs from same profile"
   ]
  },
  {
   "cell_type": "code",
   "execution_count": 38,
   "metadata": {},
   "outputs": [],
   "source": [
    "csv_path = 'csv/matteosalviniofficial/'\n",
    "csv_files = os.listdir(csv_path)\n",
    "\n",
    "indagato = ig_profiles['salvini']"
   ]
  },
  {
   "cell_type": "code",
   "execution_count": 39,
   "metadata": {},
   "outputs": [],
   "source": [
    "postfiles = list(set([csv for csv in csv_files if csv.startswith(indagato) and csv.endswith('posts.csv')]))\n",
    "commentfiles = list(set([csv for csv in csv_files if csv.startswith(indagato) and csv.endswith('comments.csv')]))\n",
    "\n",
    "assert(len(postfiles) == len(commentfiles))"
   ]
  },
  {
   "cell_type": "code",
   "execution_count": 40,
   "metadata": {},
   "outputs": [],
   "source": [
    "df = pd.concat([pd.read_csv(csv_path+commentfn, sep='\\t') for commentfn in commentfiles]).reset_index(drop=True)"
   ]
  },
  {
   "cell_type": "code",
   "execution_count": 44,
   "metadata": {},
   "outputs": [
    {
     "name": "stdout",
     "output_type": "stream",
     "text": [
      "shape: (206360, 5)\n"
     ]
    },
    {
     "data": {
      "text/html": [
       "<div><div id=3022c485-dd7d-414f-9081-38f4d657dee2 style=\"display:none; background-color:#9D6CFF; color:white; width:200px; height:30px; padding-left:5px; border-radius:4px; flex-direction:row; justify-content:space-around; align-items:center;\" onmouseover=\"this.style.backgroundColor='#BA9BF8'\" onmouseout=\"this.style.backgroundColor='#9D6CFF'\" onclick=\"window.commands?.execute('create-mitosheet-from-dataframe-output');\">See Full Dataframe in Mito</div> <script> if (window.commands.hasCommand('create-mitosheet-from-dataframe-output')) document.getElementById('3022c485-dd7d-414f-9081-38f4d657dee2').style.display = 'flex' </script> <table border=\"1\" class=\"dataframe\">\n",
       "  <thead>\n",
       "    <tr style=\"text-align: right;\">\n",
       "      <th></th>\n",
       "      <th>post_id</th>\n",
       "      <th>user</th>\n",
       "      <th>comment</th>\n",
       "      <th>comment_datetime</th>\n",
       "      <th>comment_likes</th>\n",
       "    </tr>\n",
       "  </thead>\n",
       "  <tbody>\n",
       "    <tr>\n",
       "      <th>0</th>\n",
       "      <td>Ck9MRyyKIT5</td>\n",
       "      <td>gatto_paoletto</td>\n",
       "      <td>Tutti i cittadini dovrebbero saperlo praticare. Si salverebbero migliaia di vita ogni anno. Questa è civiltà, questa è la società che si evolve. Non con i bagni per chi non é sicuro del proprio genere...</td>\n",
       "      <td>2022-11-14T21:29:33.000Z</td>\n",
       "      <td>29</td>\n",
       "    </tr>\n",
       "    <tr>\n",
       "      <th>1</th>\n",
       "      <td>Ck9MRyyKIT5</td>\n",
       "      <td>marini_mariagrazia</td>\n",
       "      <td>La Professionalità e tempestività di questa ragazza sono encomiabili! Bisognerebbe venissero fatti dei corsi di primo soccorso nelle scuole, sarebbero molto utili!</td>\n",
       "      <td>2022-11-14T21:58:05.000Z</td>\n",
       "      <td>13</td>\n",
       "    </tr>\n",
       "    <tr>\n",
       "      <th>2</th>\n",
       "      <td>Ck9MRyyKIT5</td>\n",
       "      <td>acquafreddafrancesco</td>\n",
       "      <td>Nessuna correlazione con il siero? Fatevi domande gente! Troppi casi in giro!</td>\n",
       "      <td>2022-11-16T07:00:14.000Z</td>\n",
       "      <td>1</td>\n",
       "    </tr>\n",
       "    <tr>\n",
       "      <th>3</th>\n",
       "      <td>Ck9MRyyKIT5</td>\n",
       "      <td>saiberg2000</td>\n",
       "      <td>Se stata l’angelo di quel l ‘uomo 👏🏻👏🏻👏🏻</td>\n",
       "      <td>2022-11-14T21:35:28.000Z</td>\n",
       "      <td>2</td>\n",
       "    </tr>\n",
       "    <tr>\n",
       "      <th>4</th>\n",
       "      <td>Ck9MRyyKIT5</td>\n",
       "      <td>_franz85_</td>\n",
       "      <td>Andrebbe insegnato a scuola</td>\n",
       "      <td>2022-11-15T05:08:19.000Z</td>\n",
       "      <td>1</td>\n",
       "    </tr>\n",
       "  </tbody>\n",
       "</table></div>"
      ],
      "text/plain": [
       "       post_id                  user  \\\n",
       "0  Ck9MRyyKIT5        gatto_paoletto   \n",
       "1  Ck9MRyyKIT5    marini_mariagrazia   \n",
       "2  Ck9MRyyKIT5  acquafreddafrancesco   \n",
       "3  Ck9MRyyKIT5           saiberg2000   \n",
       "4  Ck9MRyyKIT5             _franz85_   \n",
       "\n",
       "                                             comment  \\\n",
       "0  Tutti i cittadini dovrebbero saperlo praticare...   \n",
       "1  La Professionalità e tempestività di questa ra...   \n",
       "2  Nessuna correlazione con il siero? Fatevi doma...   \n",
       "3           Se stata l’angelo di quel l ‘uomo 👏🏻👏🏻👏🏻   \n",
       "4                        Andrebbe insegnato a scuola   \n",
       "\n",
       "           comment_datetime  comment_likes  \n",
       "0  2022-11-14T21:29:33.000Z             29  \n",
       "1  2022-11-14T21:58:05.000Z             13  \n",
       "2  2022-11-16T07:00:14.000Z              1  \n",
       "3  2022-11-14T21:35:28.000Z              2  \n",
       "4  2022-11-15T05:08:19.000Z              1  "
      ]
     },
     "execution_count": 44,
     "metadata": {},
     "output_type": "execute_result"
    }
   ],
   "source": [
    "print(f'shape: {df.shape}')\n",
    "df.head()"
   ]
  },
  {
   "cell_type": "code",
   "execution_count": 48,
   "metadata": {},
   "outputs": [],
   "source": [
    "df.to_csv(f'csv/{indagato}_comments_20230316_0-1100.csv', sep='\\t', index=False)"
   ]
  },
  {
   "attachments": {},
   "cell_type": "markdown",
   "metadata": {},
   "source": [
    "# Load data"
   ]
  },
  {
   "cell_type": "code",
   "execution_count": 92,
   "metadata": {},
   "outputs": [],
   "source": [
    "df = pd.read_csv('csv/matteosalviniofficial_comments_20230316_0-1100.csv', sep='\\t')"
   ]
  },
  {
   "attachments": {},
   "cell_type": "markdown",
   "metadata": {},
   "source": [
    "# Utils"
   ]
  },
  {
   "cell_type": "code",
   "execution_count": 93,
   "metadata": {},
   "outputs": [],
   "source": [
    "def lambda_pipe(element, lpipe):\n",
    "    return lpipe[0](element) if len(lpipe)==1 else lambda_pipe(lpipe[0](element), lpipe[1:])"
   ]
  },
  {
   "attachments": {},
   "cell_type": "markdown",
   "metadata": {},
   "source": [
    "# Data preparation"
   ]
  },
  {
   "attachments": {},
   "cell_type": "markdown",
   "metadata": {},
   "source": [
    "## Text preprocess\n",
    "\n",
    "- lower\n",
    "- no urls\n",
    "- no non-alpha chars:\n",
    "    - no @ tag\n",
    "    - no punctuation (except '.')\n",
    "    - no emoji\n",
    "    - no numbers\n",
    "    - no escape chars\n",
    "- no extra spaces\n",
    "- no extra '.'"
   ]
  },
  {
   "cell_type": "code",
   "execution_count": 94,
   "metadata": {},
   "outputs": [],
   "source": [
    "lower = lambda s: s.lower()\n",
    "no_urls = lambda s: re.sub(r'https?://\\S+|www.\\.\\S+', '', s)\n",
    "no_nonalpha = lambda s: ''.join([c for c in s if c.isalpha() or c==' ' or c=='.'])\n",
    "no_ellipses = lambda s: re.sub(r'\\.{2,}', '. ', s)\n",
    "no_extra_spaces = lambda s: ' '.join(s.split())\n",
    "\n",
    "def prep_df(df, column_name='comment'):\n",
    "    df['comment_prep'] = df[column_name].apply(lambda c: lambda_pipe(c, [lower, no_urls, no_nonalpha, no_ellipses, no_extra_spaces]))\n",
    "    return df"
   ]
  },
  {
   "cell_type": "code",
   "execution_count": 95,
   "metadata": {},
   "outputs": [
    {
     "data": {
      "text/html": [
       "<div><div id=54fca771-021d-4183-aef6-779ea42d73b8 style=\"display:none; background-color:#9D6CFF; color:white; width:200px; height:30px; padding-left:5px; border-radius:4px; flex-direction:row; justify-content:space-around; align-items:center;\" onmouseover=\"this.style.backgroundColor='#BA9BF8'\" onmouseout=\"this.style.backgroundColor='#9D6CFF'\" onclick=\"window.commands?.execute('create-mitosheet-from-dataframe-output');\">See Full Dataframe in Mito</div> <script> if (window.commands.hasCommand('create-mitosheet-from-dataframe-output')) document.getElementById('54fca771-021d-4183-aef6-779ea42d73b8').style.display = 'flex' </script> <table border=\"1\" class=\"dataframe\">\n",
       "  <thead>\n",
       "    <tr style=\"text-align: right;\">\n",
       "      <th></th>\n",
       "      <th>post_id</th>\n",
       "      <th>user</th>\n",
       "      <th>comment</th>\n",
       "      <th>comment_datetime</th>\n",
       "      <th>comment_likes</th>\n",
       "      <th>comment_prep</th>\n",
       "    </tr>\n",
       "  </thead>\n",
       "  <tbody>\n",
       "    <tr>\n",
       "      <th>0</th>\n",
       "      <td>Ck9MRyyKIT5</td>\n",
       "      <td>gatto_paoletto</td>\n",
       "      <td>Tutti i cittadini dovrebbero saperlo praticare. Si salverebbero migliaia di vita ogni anno. Questa è civiltà, questa è la società che si evolve. Non con i bagni per chi non é sicuro del proprio genere...</td>\n",
       "      <td>2022-11-14T21:29:33.000Z</td>\n",
       "      <td>29</td>\n",
       "      <td>tutti i cittadini dovrebbero saperlo praticare. si salverebbero migliaia di vita ogni anno. questa è civiltà questa è la società che si evolve. non con i bagni per chi non é sicuro del proprio genere.</td>\n",
       "    </tr>\n",
       "    <tr>\n",
       "      <th>1</th>\n",
       "      <td>Ck9MRyyKIT5</td>\n",
       "      <td>marini_mariagrazia</td>\n",
       "      <td>La Professionalità e tempestività di questa ragazza sono encomiabili! Bisognerebbe venissero fatti dei corsi di primo soccorso nelle scuole, sarebbero molto utili!</td>\n",
       "      <td>2022-11-14T21:58:05.000Z</td>\n",
       "      <td>13</td>\n",
       "      <td>la professionalità e tempestività di questa ragazza sono encomiabili bisognerebbe venissero fatti dei corsi di primo soccorso nelle scuole sarebbero molto utili</td>\n",
       "    </tr>\n",
       "  </tbody>\n",
       "</table></div>"
      ],
      "text/plain": [
       "       post_id                user  \\\n",
       "0  Ck9MRyyKIT5      gatto_paoletto   \n",
       "1  Ck9MRyyKIT5  marini_mariagrazia   \n",
       "\n",
       "                                             comment  \\\n",
       "0  Tutti i cittadini dovrebbero saperlo praticare...   \n",
       "1  La Professionalità e tempestività di questa ra...   \n",
       "\n",
       "           comment_datetime  comment_likes  \\\n",
       "0  2022-11-14T21:29:33.000Z             29   \n",
       "1  2022-11-14T21:58:05.000Z             13   \n",
       "\n",
       "                                        comment_prep  \n",
       "0  tutti i cittadini dovrebbero saperlo praticare...  \n",
       "1  la professionalità e tempestività di questa ra...  "
      ]
     },
     "execution_count": 95,
     "metadata": {},
     "output_type": "execute_result"
    }
   ],
   "source": [
    "df = prep_df(df)\n",
    "\n",
    "df.head(2)"
   ]
  },
  {
   "attachments": {},
   "cell_type": "markdown",
   "metadata": {},
   "source": [
    "## Tokenization\n",
    "\n",
    "1. Text → Sentences\n",
    "2. Senteces → Words"
   ]
  },
  {
   "cell_type": "code",
   "execution_count": 117,
   "metadata": {},
   "outputs": [],
   "source": [
    "tokenize_text2senteces = lambda text: [sentence[:-1] if sentence.endswith('.') else sentence for sentence in sent_tokenize(text)]\n",
    "tokenize_senteces2words = lambda sentences: [word_tokenize(sentence) if type(sentence) is str and len(sentence)>0 else None for sentence in sentences]\n",
    "\n",
    "def tokenize_df(df, column_name='comment_prep'):\n",
    "    df['comment_token'] = df[column_name].apply(lambda c: lambda_pipe(c, [tokenize_text2senteces, lambda x: list(x), tokenize_senteces2words]))\n",
    "    return df"
   ]
  },
  {
   "cell_type": "code",
   "execution_count": 121,
   "metadata": {},
   "outputs": [],
   "source": [
    "df = tokenize_df(df)"
   ]
  },
  {
   "attachments": {},
   "cell_type": "markdown",
   "metadata": {},
   "source": [
    "## Lemmatization + POS tagging\n",
    "\n",
    "Using spacy nlp model <br>\n",
    "[ https://spacy.io/models/it#it_core_news_md ]\n",
    "\n",
    "- Lemmatization\n",
    "    - reduction to base form\n",
    "- POS tag filtering:\n",
    "    - nouns\n",
    "    - verbs\n",
    "    - adjectives\n",
    "    - adverbs"
   ]
  },
  {
   "cell_type": "code",
   "execution_count": 190,
   "metadata": {},
   "outputs": [
    {
     "name": "stderr",
     "output_type": "stream",
     "text": [
      "c:\\Users\\tommaso\\AppData\\Local\\Programs\\Python\\Python39\\lib\\site-packages\\spacy\\util.py:877: UserWarning: [W095] Model 'it_core_news_md' (3.2.0) was trained with spaCy v3.2 and may not be 100% compatible with the current version (3.5.0). If you see errors or degraded performance, download a newer compatible model or retrain your custom model with the current spaCy version. For more details and available updates, run: python -m spacy validate\n",
      "  warnings.warn(warn_msg)\n"
     ]
    }
   ],
   "source": [
    "spacy_nlp = spacy.load(\"it_core_news_md\", disable=['ner', 'entity_linker', 'entity_ruler',\n",
    "                                                    'textcat', 'textcat_multilabel', 'morphologizer', \n",
    "                                                    'senter', 'sentencizer', 'transformer'])\n",
    "\n",
    "sentence2doc = lambda sentence: spacy_nlp(' '.join(sentence) if type(sentence) is list else sentence) if sentence!=None else None\n",
    "lemmatize_doc = lambda doc: [t.lemma_ if t != None else None for t in doc] if doc!=None else None\n",
    "postag_doc = lambda doc: [t.tag_ if t != None else None for t in doc] if doc!=None else None\n",
    "\n",
    "def lemma_tagger_df(df, column_name='comment_token'):\n",
    "    docs = df[column_name].apply(lambda c: [sentence2doc(sentence) for sentence in c])\n",
    "    df['comment_lemma'] = docs.apply(lambda docs: [lemmatize_doc(sentence) for sentence in docs])\n",
    "    df['comment_postag'] = docs.apply(lambda docs: [postag_doc(sentence) for sentence in docs])\n",
    "    return df"
   ]
  },
  {
   "cell_type": "code",
   "execution_count": 191,
   "metadata": {},
   "outputs": [],
   "source": [
    "df = lemma_tagger_df(df)"
   ]
  },
  {
   "attachments": {},
   "cell_type": "markdown",
   "metadata": {},
   "source": [
    "# Save CSV"
   ]
  },
  {
   "attachments": {},
   "cell_type": "markdown",
   "metadata": {},
   "source": [
    "## Lookup users"
   ]
  },
  {
   "cell_type": "code",
   "execution_count": 261,
   "metadata": {},
   "outputs": [],
   "source": [
    "with open('utilities/lookup_users.pkl', 'rb') as f:\n",
    "    full_lookup = pickle.load(f)\n",
    "\n",
    "this_users = set(df.user)\n",
    "new_users = set(full_lookup.keys()) - this_users"
   ]
  },
  {
   "cell_type": "code",
   "execution_count": 262,
   "metadata": {},
   "outputs": [],
   "source": [
    "start_idx = len(full_lookup)\n",
    "for i,new_user in enumerate(new_users):\n",
    "    full_lookup[new_users] = f'user_{str(start_idx+i)}'"
   ]
  },
  {
   "cell_type": "code",
   "execution_count": 263,
   "metadata": {},
   "outputs": [],
   "source": [
    "with open('utilities/lookup_users.pkl', 'wb') as f:\n",
    "    pickle.dump(full_lookup, f)"
   ]
  },
  {
   "cell_type": "code",
   "execution_count": 265,
   "metadata": {},
   "outputs": [],
   "source": [
    "df.user = df.user.apply(lambda u: full_lookup[u])"
   ]
  },
  {
   "attachments": {},
   "cell_type": "markdown",
   "metadata": {},
   "source": [
    "## Write CSV as pickle"
   ]
  },
  {
   "cell_type": "code",
   "execution_count": 271,
   "metadata": {},
   "outputs": [],
   "source": [
    "fname = 'gitshared_csv/matteosalviniofficial_comments_20230316_0-1100_preprocessed.df'"
   ]
  },
  {
   "cell_type": "code",
   "execution_count": 272,
   "metadata": {},
   "outputs": [],
   "source": [
    "df.to_pickle(fname)"
   ]
  }
 ],
 "metadata": {
  "kernelspec": {
   "display_name": "Python 3",
   "language": "python",
   "name": "python3"
  },
  "language_info": {
   "codemirror_mode": {
    "name": "ipython",
    "version": 3
   },
   "file_extension": ".py",
   "mimetype": "text/x-python",
   "name": "python",
   "nbconvert_exporter": "python",
   "pygments_lexer": "ipython3",
   "version": "3.9.1"
  },
  "orig_nbformat": 4
 },
 "nbformat": 4,
 "nbformat_minor": 2
}
